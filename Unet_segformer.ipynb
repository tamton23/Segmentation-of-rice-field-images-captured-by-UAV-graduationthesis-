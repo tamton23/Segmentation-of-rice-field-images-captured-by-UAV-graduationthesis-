{
  "nbformat": 4,
  "nbformat_minor": 0,
  "metadata": {
    "colab": {
      "provenance": [],
      "gpuType": "T4"
    },
    "kernelspec": {
      "name": "python3",
      "display_name": "Python 3"
    },
    "language_info": {
      "name": "python"
    },
    "accelerator": "GPU",
    "widgets": {
      "application/vnd.jupyter.widget-state+json": {
        "dc9984cd43e042d18f4237acaaec2785": {
          "model_module": "@jupyter-widgets/controls",
          "model_name": "HBoxModel",
          "model_module_version": "1.5.0",
          "state": {
            "_dom_classes": [],
            "_model_module": "@jupyter-widgets/controls",
            "_model_module_version": "1.5.0",
            "_model_name": "HBoxModel",
            "_view_count": null,
            "_view_module": "@jupyter-widgets/controls",
            "_view_module_version": "1.5.0",
            "_view_name": "HBoxView",
            "box_style": "",
            "children": [
              "IPY_MODEL_69a573761f344ca1a66d40e37b617d90",
              "IPY_MODEL_7663105496d647f78c58509b35ac6f53",
              "IPY_MODEL_5dee61f43cc1476297686f0ce0340a85"
            ],
            "layout": "IPY_MODEL_f6361159ebe34c8a8b72efe9498ecb40"
          }
        },"state": {}
        "69a573761f344ca1a66d40e37b617d90": {
          "model_module": "@jupyter-widgets/controls",
          "model_name": "HTMLModel",
          "model_module_version": "1.5.0",
          "state": {
            "_dom_classes": [],
            "_model_module": "@jupyter-widgets/controls",
            "_model_module_version": "1.5.0",
            "_model_name": "HTMLModel",
            "_view_count": null,
            "_view_module": "@jupyter-widgets/controls",
            "_view_module_version": "1.5.0",
            "_view_name": "HTMLView",
            "description": "",
            "description_tooltip": null,
            "layout": "IPY_MODEL_39b255a158cc41abbaf377e62eef2e64",
            "placeholder": "​",
            "style": "IPY_MODEL_a0f778c2782f42fcab078d2c0b1d5b02",
            "value": "config.json: 100%"
          }
        },
        "7663105496d647f78c58509b35ac6f53": {
          "model_module": "@jupyter-widgets/controls",
          "model_name": "FloatProgressModel",
          "model_module_version": "1.5.0",
          "state": {
            "_dom_classes": [],
            "_model_module": "@jupyter-widgets/controls",
            "_model_module_version": "1.5.0",
            "_model_name": "FloatProgressModel",
            "_view_count": null,
            "_view_module": "@jupyter-widgets/controls",
            "_view_module_version": "1.5.0",
            "_view_name": "ProgressView",
            "bar_style": "success",
            "description": "",
            "description_tooltip": null,
            "layout": "IPY_MODEL_8f1e69e99a6141c59b8dff690049619a",
            "max": 70043,
            "min": 0,
            "orientation": "horizontal",
            "style": "IPY_MODEL_04bdab10212943828f7ae4a1e312ddf6",
            "value": 70043
          }
        },
        "5dee61f43cc1476297686f0ce0340a85": {
          "model_module": "@jupyter-widgets/controls",
          "model_name": "HTMLModel",
          "model_module_version": "1.5.0",
          "state": {
            "_dom_classes": [],
            "_model_module": "@jupyter-widgets/controls",
            "_model_module_version": "1.5.0",
            "_model_name": "HTMLModel",
            "_view_count": null,
            "_view_module": "@jupyter-widgets/controls",
            "_view_module_version": "1.5.0",
            "_view_name": "HTMLView",
            "description": "",
            "description_tooltip": null,
            "layout": "IPY_MODEL_9df5e617009842ecbcbb6c3c70f5c0be",
            "placeholder": "​",
            "style": "IPY_MODEL_d82f1a9ff6a146e8bc328429c0be3b11",
            "value": " 70.0k/70.0k [00:00&lt;00:00, 977kB/s]"
          }
        },
        "f6361159ebe34c8a8b72efe9498ecb40": {
          "model_module": "@jupyter-widgets/base",
          "model_name": "LayoutModel",
          "model_module_version": "1.2.0",
          "state": {
            "_model_module": "@jupyter-widgets/base",
            "_model_module_version": "1.2.0",
            "_model_name": "LayoutModel",
            "_view_count": null,
            "_view_module": "@jupyter-widgets/base",
            "_view_module_version": "1.2.0",
            "_view_name": "LayoutView",
            "align_content": null,
            "align_items": null,
            "align_self": null,
            "border": null,
            "bottom": null,
            "display": null,
            "flex": null,
            "flex_flow": null,
            "grid_area": null,
            "grid_auto_columns": null,
            "grid_auto_flow": null,
            "grid_auto_rows": null,
            "grid_column": null,
            "grid_gap": null,
            "grid_row": null,
            "grid_template_areas": null,
            "grid_template_columns": null,
            "grid_template_rows": null,
            "height": null,
            "justify_content": null,
            "justify_items": null,
            "left": null,
            "margin": null,
            "max_height": null,
            "max_width": null,
            "min_height": null,
            "min_width": null,
            "object_fit": null,
            "object_position": null,
            "order": null,
            "overflow": null,
            "overflow_x": null,
            "overflow_y": null,
            "padding": null,
            "right": null,
            "top": null,
            "visibility": null,
            "width": null
          }
        },
        "39b255a158cc41abbaf377e62eef2e64": {
          "model_module": "@jupyter-widgets/base",
          "model_name": "LayoutModel",
          "model_module_version": "1.2.0",
          "state": {
            "_model_module": "@jupyter-widgets/base",
            "_model_module_version": "1.2.0",
            "_model_name": "LayoutModel",
            "_view_count": null,
            "_view_module": "@jupyter-widgets/base",
            "_view_module_version": "1.2.0",
            "_view_name": "LayoutView",
            "align_content": null,
            "align_items": null,
            "align_self": null,
            "border": null,
            "bottom": null,
            "display": null,
            "flex": null,
            "flex_flow": null,
            "grid_area": null,
            "grid_auto_columns": null,
            "grid_auto_flow": null,
            "grid_auto_rows": null,
            "grid_column": null,
            "grid_gap": null,
            "grid_row": null,
            "grid_template_areas": null,
            "grid_template_columns": null,
            "grid_template_rows": null,
            "height": null,
            "justify_content": null,
            "justify_items": null,
            "left": null,
            "margin": null,
            "max_height": null,
            "max_width": null,
            "min_height": null,
            "min_width": null,
            "object_fit": null,
            "object_position": null,
            "order": null,
            "overflow": null,
            "overflow_x": null,
            "overflow_y": null,
            "padding": null,
            "right": null,
            "top": null,
            "visibility": null,
            "width": null
          }
        },
        "a0f778c2782f42fcab078d2c0b1d5b02": {
          "model_module": "@jupyter-widgets/controls",
          "model_name": "DescriptionStyleModel",
          "model_module_version": "1.5.0",
          "state": {
            "_model_module": "@jupyter-widgets/controls",
            "_model_module_version": "1.5.0",
            "_model_name": "DescriptionStyleModel",
            "_view_count": null,
            "_view_module": "@jupyter-widgets/base",
            "_view_module_version": "1.2.0",
            "_view_name": "StyleView",
            "description_width": ""
          }
        },
        "8f1e69e99a6141c59b8dff690049619a": {
          "model_module": "@jupyter-widgets/base",
          "model_name": "LayoutModel",
          "model_module_version": "1.2.0",
          "state": {
            "_model_module": "@jupyter-widgets/base",
            "_model_module_version": "1.2.0",
            "_model_name": "LayoutModel",
            "_view_count": null,
            "_view_module": "@jupyter-widgets/base",
            "_view_module_version": "1.2.0",
            "_view_name": "LayoutView",
            "align_content": null,
            "align_items": null,
            "align_self": null,
            "border": null,
            "bottom": null,
            "display": null,
            "flex": null,
            "flex_flow": null,
            "grid_area": null,
            "grid_auto_columns": null,
            "grid_auto_flow": null,
            "grid_auto_rows": null,
            "grid_column": null,
            "grid_gap": null,
            "grid_row": null,
            "grid_template_areas": null,
            "grid_template_columns": null,
            "grid_template_rows": null,
            "height": null,
            "justify_content": null,
            "justify_items": null,
            "left": null,
            "margin": null,
            "max_height": null,
            "max_width": null,
            "min_height": null,
            "min_width": null,
            "object_fit": null,
            "object_position": null,
            "order": null,
            "overflow": null,
            "overflow_x": null,
            "overflow_y": null,
            "padding": null,
            "right": null,
            "top": null,
            "visibility": null,
            "width": null
          }
        },
        "04bdab10212943828f7ae4a1e312ddf6": {
          "model_module": "@jupyter-widgets/controls",
          "model_name": "ProgressStyleModel",
          "model_module_version": "1.5.0",
          "state": {
            "_model_module": "@jupyter-widgets/controls",
            "_model_module_version": "1.5.0",
            "_model_name": "ProgressStyleModel",
            "_view_count": null,
            "_view_module": "@jupyter-widgets/base",
            "_view_module_version": "1.2.0",
            "_view_name": "StyleView",
            "bar_color": null,
            "description_width": ""
          }
        },
        "9df5e617009842ecbcbb6c3c70f5c0be": {
          "model_module": "@jupyter-widgets/base",
          "model_name": "LayoutModel",
          "model_module_version": "1.2.0",
          "state": {
            "_model_module": "@jupyter-widgets/base",
            "_model_module_version": "1.2.0",
            "_model_name": "LayoutModel",
            "_view_count": null,
            "_view_module": "@jupyter-widgets/base",
            "_view_module_version": "1.2.0",
            "_view_name": "LayoutView",
            "align_content": null,
            "align_items": null,
            "align_self": null,
            "border": null,
            "bottom": null,
            "display": null,
            "flex": null,
            "flex_flow": null,
            "grid_area": null,
            "grid_auto_columns": null,
            "grid_auto_flow": null,
            "grid_auto_rows": null,
            "grid_column": null,
            "grid_gap": null,
            "grid_row": null,
            "grid_template_areas": null,
            "grid_template_columns": null,
            "grid_template_rows": null,
            "height": null,
            "justify_content": null,
            "justify_items": null,
            "left": null,
            "margin": null,
            "max_height": null,
            "max_width": null,
            "min_height": null,
            "min_width": null,
            "object_fit": null,
            "object_position": null,
            "order": null,
            "overflow": null,
            "overflow_x": null,
            "overflow_y": null,
            "padding": null,
            "right": null,
            "top": null,
            "visibility": null,
            "width": null
          }
        },
        "d82f1a9ff6a146e8bc328429c0be3b11": {
          "model_module": "@jupyter-widgets/controls",
          "model_name": "DescriptionStyleModel",
          "model_module_version": "1.5.0",
          "state": {
            "_model_module": "@jupyter-widgets/controls",
            "_model_module_version": "1.5.0",
            "_model_name": "DescriptionStyleModel",
            "_view_count": null,
            "_view_module": "@jupyter-widgets/base",
            "_view_module_version": "1.2.0",
            "_view_name": "StyleView",
            "description_width": ""
          }
        },
        "ea4d5565af474c379411e1141fa502bb": {
          "model_module": "@jupyter-widgets/controls",
          "model_name": "HBoxModel",
          "model_module_version": "1.5.0",
          "state": {
            "_dom_classes": [],
            "_model_module": "@jupyter-widgets/controls",
            "_model_module_version": "1.5.0",
            "_model_name": "HBoxModel",
            "_view_count": null,
            "_view_module": "@jupyter-widgets/controls",
            "_view_module_version": "1.5.0",
            "_view_name": "HBoxView",
            "box_style": "",
            "children": [
              "IPY_MODEL_1c2c7e70d6ab4e9da106ac329ccfe1b0",
              "IPY_MODEL_bc9fce0cb3774ab6bae7e990d5cff6be",
              "IPY_MODEL_57e76f49275b4601b6efab9a79a569bf"
            ],
            "layout": "IPY_MODEL_e40b32d0e56a475e869538719d7ba106"
          }
        },
        "1c2c7e70d6ab4e9da106ac329ccfe1b0": {
          "model_module": "@jupyter-widgets/controls",
          "model_name": "HTMLModel",
          "model_module_version": "1.5.0",
          "state": {
            "_dom_classes": [],
            "_model_module": "@jupyter-widgets/controls",
            "_model_module_version": "1.5.0",
            "_model_name": "HTMLModel",
            "_view_count": null,
            "_view_module": "@jupyter-widgets/controls",
            "_view_module_version": "1.5.0",
            "_view_name": "HTMLView",
            "description": "",
            "description_tooltip": null,
            "layout": "IPY_MODEL_b76b728919df42cd8425a66c10d6660f",
            "placeholder": "​",
            "style": "IPY_MODEL_cd106cfc11504d11ae9c8ae8f1ebc1c7",
            "value": "pytorch_model.bin: 100%"
          }
        },
        "bc9fce0cb3774ab6bae7e990d5cff6be": {
          "model_module": "@jupyter-widgets/controls",
          "model_name": "FloatProgressModel",
          "model_module_version": "1.5.0",
          "state": {
            "_dom_classes": [],
            "_model_module": "@jupyter-widgets/controls",
            "_model_module_version": "1.5.0",
            "_model_name": "FloatProgressModel",
            "_view_count": null,
            "_view_module": "@jupyter-widgets/controls",
            "_view_module_version": "1.5.0",
            "_view_name": "ProgressView",
            "bar_style": "success",
            "description": "",
            "description_tooltip": null,
            "layout": "IPY_MODEL_771a4c270c2b462a855cbf058032026f",
            "max": 14380029,
            "min": 0,
            "orientation": "horizontal",
            "style": "IPY_MODEL_ddbdcb4cb71d466994b0c4393f6a6421",
            "value": 14380029
          }
        },
        "57e76f49275b4601b6efab9a79a569bf": {
          "model_module": "@jupyter-widgets/controls",
          "model_name": "HTMLModel",
          "model_module_version": "1.5.0",
          "state": {
            "_dom_classes": [],
            "_model_module": "@jupyter-widgets/controls",
            "_model_module_version": "1.5.0",
            "_model_name": "HTMLModel",
            "_view_count": null,
            "_view_module": "@jupyter-widgets/controls",
            "_view_module_version": "1.5.0",
            "_view_name": "HTMLView",
            "description": "",
            "description_tooltip": null,
            "layout": "IPY_MODEL_20991193f9994ad493e3a2920fb5f41d",
            "placeholder": "​",
            "style": "IPY_MODEL_2932c5d52d7a46cf9c467d6ea2d9a460",
            "value": " 14.4M/14.4M [00:00&lt;00:00, 62.2MB/s]"
          }
        },
        "e40b32d0e56a475e869538719d7ba106": {
          "model_module": "@jupyter-widgets/base",
          "model_name": "LayoutModel",
          "model_module_version": "1.2.0",
          "state": {
            "_model_module": "@jupyter-widgets/base",
            "_model_module_version": "1.2.0",
            "_model_name": "LayoutModel",
            "_view_count": null,
            "_view_module": "@jupyter-widgets/base",
            "_view_module_version": "1.2.0",
            "_view_name": "LayoutView",
            "align_content": null,
            "align_items": null,
            "align_self": null,
            "border": null,
            "bottom": null,
            "display": null,
            "flex": null,
            "flex_flow": null,
            "grid_area": null,
            "grid_auto_columns": null,
            "grid_auto_flow": null,
            "grid_auto_rows": null,
            "grid_column": null,
            "grid_gap": null,
            "grid_row": null,
            "grid_template_areas": null,
            "grid_template_columns": null,
            "grid_template_rows": null,
            "height": null,
            "justify_content": null,
            "justify_items": null,
            "left": null,
            "margin": null,
            "max_height": null,
            "max_width": null,
            "min_height": null,
            "min_width": null,
            "object_fit": null,
            "object_position": null,
            "order": null,
            "overflow": null,
            "overflow_x": null,
            "overflow_y": null,
            "padding": null,
            "right": null,
            "top": null,
            "visibility": null,
            "width": null
          }
        },
        "b76b728919df42cd8425a66c10d6660f": {
          "model_module": "@jupyter-widgets/base",
          "model_name": "LayoutModel",
          "model_module_version": "1.2.0",
          "state": {
            "_model_module": "@jupyter-widgets/base",
            "_model_module_version": "1.2.0",
            "_model_name": "LayoutModel",
            "_view_count": null,
            "_view_module": "@jupyter-widgets/base",
            "_view_module_version": "1.2.0",
            "_view_name": "LayoutView",
            "align_content": null,
            "align_items": null,
            "align_self": null,
            "border": null,
            "bottom": null,
            "display": null,
            "flex": null,
            "flex_flow": null,
            "grid_area": null,
            "grid_auto_columns": null,
            "grid_auto_flow": null,
            "grid_auto_rows": null,
            "grid_column": null,
            "grid_gap": null,
            "grid_row": null,
            "grid_template_areas": null,
            "grid_template_columns": null,
            "grid_template_rows": null,
            "height": null,
            "justify_content": null,
            "justify_items": null,
            "left": null,
            "margin": null,
            "max_height": null,
            "max_width": null,
            "min_height": null,
            "min_width": null,
            "object_fit": null,
            "object_position": null,
            "order": null,
            "overflow": null,
            "overflow_x": null,
            "overflow_y": null,
            "padding": null,
            "right": null,
            "top": null,
            "visibility": null,
            "width": null
          }
        },
        "cd106cfc11504d11ae9c8ae8f1ebc1c7": {
          "model_module": "@jupyter-widgets/controls",
          "model_name": "DescriptionStyleModel",
          "model_module_version": "1.5.0",
          "state": {
            "_model_module": "@jupyter-widgets/controls",
            "_model_module_version": "1.5.0",
            "_model_name": "DescriptionStyleModel",
            "_view_count": null,
            "_view_module": "@jupyter-widgets/base",
            "_view_module_version": "1.2.0",
            "_view_name": "StyleView",
            "description_width": ""
          }
        },
        "771a4c270c2b462a855cbf058032026f": {
          "model_module": "@jupyter-widgets/base",
          "model_name": "LayoutModel",
          "model_module_version": "1.2.0",
          "state": {
            "_model_module": "@jupyter-widgets/base",
            "_model_module_version": "1.2.0",
            "_model_name": "LayoutModel",
            "_view_count": null,
            "_view_module": "@jupyter-widgets/base",
            "_view_module_version": "1.2.0",
            "_view_name": "LayoutView",
            "align_content": null,
            "align_items": null,
            "align_self": null,
            "border": null,
            "bottom": null,
            "display": null,
            "flex": null,
            "flex_flow": null,
            "grid_area": null,
            "grid_auto_columns": null,
            "grid_auto_flow": null,
            "grid_auto_rows": null,
            "grid_column": null,
            "grid_gap": null,
            "grid_row": null,
            "grid_template_areas": null,
            "grid_template_columns": null,
            "grid_template_rows": null,
            "height": null,
            "justify_content": null,
            "justify_items": null,
            "left": null,
            "margin": null,
            "max_height": null,
            "max_width": null,
            "min_height": null,
            "min_width": null,
            "object_fit": null,
            "object_position": null,
            "order": null,
            "overflow": null,
            "overflow_x": null,
            "overflow_y": null,
            "padding": null,
            "right": null,
            "top": null,
            "visibility": null,
            "width": null
          }
        },
        "ddbdcb4cb71d466994b0c4393f6a6421": {
          "model_module": "@jupyter-widgets/controls",
          "model_name": "ProgressStyleModel",
          "model_module_version": "1.5.0",
          "state": {
            "_model_module": "@jupyter-widgets/controls",
            "_model_module_version": "1.5.0",
            "_model_name": "ProgressStyleModel",
            "_view_count": null,
            "_view_module": "@jupyter-widgets/base",
            "_view_module_version": "1.2.0",
            "_view_name": "StyleView",
            "bar_color": null,
            "description_width": ""
          }
        },
        "20991193f9994ad493e3a2920fb5f41d": {
          "model_module": "@jupyter-widgets/base",
          "model_name": "LayoutModel",
          "model_module_version": "1.2.0",
          "state": {
            "_model_module": "@jupyter-widgets/base",
            "_model_module_version": "1.2.0",
            "_model_name": "LayoutModel",
            "_view_count": null,
            "_view_module": "@jupyter-widgets/base",
            "_view_module_version": "1.2.0",
            "_view_name": "LayoutView",
            "align_content": null,
            "align_items": null,
            "align_self": null,
            "border": null,
            "bottom": null,
            "display": null,
            "flex": null,
            "flex_flow": null,
            "grid_area": null,
            "grid_auto_columns": null,
            "grid_auto_flow": null,
            "grid_auto_rows": null,
            "grid_column": null,
            "grid_gap": null,
            "grid_row": null,
            "grid_template_areas": null,
            "grid_template_columns": null,
            "grid_template_rows": null,
            "height": null,
            "justify_content": null,
            "justify_items": null,
            "left": null,
            "margin": null,
            "max_height": null,
            "max_width": null,
            "min_height": null,
            "min_width": null,
            "object_fit": null,
            "object_position": null,
            "order": null,
            "overflow": null,
            "overflow_x": null,
            "overflow_y": null,
            "padding": null,
            "right": null,
            "top": null,
            "visibility": null,
            "width": null
          }
        },
        "2932c5d52d7a46cf9c467d6ea2d9a460": {
          "model_module": "@jupyter-widgets/controls",
          "model_name": "DescriptionStyleModel",
          "model_module_version": "1.5.0",
          "state": {
            "_model_module": "@jupyter-widgets/controls",
            "_model_module_version": "1.5.0",
            "_model_name": "DescriptionStyleModel",
            "_view_count": null,
            "_view_module": "@jupyter-widgets/base",
            "_view_module_version": "1.2.0",
            "_view_name": "StyleView",
            "description_width": ""
          }
        }
      }
    }
  },
  "cells": [
    {
      "cell_type": "code",
      "execution_count": null,
      "metadata": {
        "id": "2bSOIq2GRHn3",
        "colab": {
          "base_uri": "https://localhost:8080/"
        },
        "outputId": "95c6cb32-4ee5-494c-b5d5-fc072144d2c2"
      },
      "outputs": [
        {
          "output_type": "stream",
          "name": "stdout",
          "text": [
            "Mounted at /content/gdrive\n"
          ]
        }
      ],
      "source": [
        "from google.colab import drive\n",
        "drive.mount('/content/gdrive')"
      ]
    },
    {
      "cell_type": "markdown",
      "source": [
        "step.2  tải thư viện\n"
      ],
      "metadata": {
        "id": "22kxXQfFRKpq"
      }
    },
    {
      "cell_type": "code",
      "source": [
        "\n",
        "!pip install torch==2.1.2\n",
        "\n",
        "!pip install transformers==4.37.2\n",
        "!pip install torchvision==0.16.2\n",
        "!pip install torchmetrics==1.3.1\n",
        "!pip install pillow==10.2.0\n",
        "!pip install numpy==1.26.4\n",
        "!pip install scikit-learn matplotlib\n"
      ],
      "metadata": {
        "colab": {
          "base_uri": "https://localhost:8080/"
        },
        "id": "facTvzIYV__Y",
        "outputId": "553fac4f-0471-40e5-8b73-16960b03f444",
        "collapsed": true
      },
      "execution_count": null,
      "outputs": [
        {
          "output_type": "stream",
          "name": "stdout",
          "text": [
            "Requirement already satisfied: torch==2.1.2 in /usr/local/lib/python3.11/dist-packages (2.1.2+cu118)\n",
            "Requirement already satisfied: filelock in /usr/local/lib/python3.11/dist-packages (from torch==2.1.2) (3.18.0)\n",
            "Requirement already satisfied: typing-extensions in /usr/local/lib/python3.11/dist-packages (from torch==2.1.2) (4.13.2)\n",
            "Requirement already satisfied: sympy in /usr/local/lib/python3.11/dist-packages (from torch==2.1.2) (1.13.1)\n",
            "Requirement already satisfied: networkx in /usr/local/lib/python3.11/dist-packages (from torch==2.1.2) (3.4.2)\n",
            "Requirement already satisfied: jinja2 in /usr/local/lib/python3.11/dist-packages (from torch==2.1.2) (3.1.6)\n",
            "Requirement already satisfied: fsspec in /usr/local/lib/python3.11/dist-packages (from torch==2.1.2) (2025.3.2)\n",
            "Requirement already satisfied: triton==2.1.0 in /usr/local/lib/python3.11/dist-packages (from torch==2.1.2) (2.1.0)\n",
            "Requirement already satisfied: MarkupSafe>=2.0 in /usr/local/lib/python3.11/dist-packages (from jinja2->torch==2.1.2) (3.0.2)\n",
            "Requirement already satisfied: mpmath<1.4,>=1.1.0 in /usr/local/lib/python3.11/dist-packages (from sympy->torch==2.1.2) (1.3.0)\n",
            "Requirement already satisfied: transformers==4.37.2 in /usr/local/lib/python3.11/dist-packages (4.37.2)\n",
            "Requirement already satisfied: filelock in /usr/local/lib/python3.11/dist-packages (from transformers==4.37.2) (3.18.0)\n",
            "Requirement already satisfied: huggingface-hub<1.0,>=0.19.3 in /usr/local/lib/python3.11/dist-packages (from transformers==4.37.2) (0.31.1)\n",
            "Requirement already satisfied: numpy>=1.17 in /usr/local/lib/python3.11/dist-packages (from transformers==4.37.2) (2.0.2)\n",
            "Requirement already satisfied: packaging>=20.0 in /usr/local/lib/python3.11/dist-packages (from transformers==4.37.2) (24.2)\n",
            "Requirement already satisfied: pyyaml>=5.1 in /usr/local/lib/python3.11/dist-packages (from transformers==4.37.2) (6.0.2)\n",
            "Requirement already satisfied: regex!=2019.12.17 in /usr/local/lib/python3.11/dist-packages (from transformers==4.37.2) (2024.11.6)\n",
            "Requirement already satisfied: requests in /usr/local/lib/python3.11/dist-packages (from transformers==4.37.2) (2.32.3)\n",
            "Requirement already satisfied: tokenizers<0.19,>=0.14 in /usr/local/lib/python3.11/dist-packages (from transformers==4.37.2) (0.15.2)\n",
            "Requirement already satisfied: safetensors>=0.4.1 in /usr/local/lib/python3.11/dist-packages (from transformers==4.37.2) (0.5.3)\n",
            "Requirement already satisfied: tqdm>=4.27 in /usr/local/lib/python3.11/dist-packages (from transformers==4.37.2) (4.67.1)\n",
            "Requirement already satisfied: fsspec>=2023.5.0 in /usr/local/lib/python3.11/dist-packages (from huggingface-hub<1.0,>=0.19.3->transformers==4.37.2) (2025.3.2)\n",
            "Requirement already satisfied: typing-extensions>=3.7.4.3 in /usr/local/lib/python3.11/dist-packages (from huggingface-hub<1.0,>=0.19.3->transformers==4.37.2) (4.13.2)\n",
            "Requirement already satisfied: hf-xet<2.0.0,>=1.1.0 in /usr/local/lib/python3.11/dist-packages (from huggingface-hub<1.0,>=0.19.3->transformers==4.37.2) (1.1.0)\n",
            "Requirement already satisfied: charset-normalizer<4,>=2 in /usr/local/lib/python3.11/dist-packages (from requests->transformers==4.37.2) (3.4.2)\n",
            "Requirement already satisfied: idna<4,>=2.5 in /usr/local/lib/python3.11/dist-packages (from requests->transformers==4.37.2) (3.10)\n",
            "Requirement already satisfied: urllib3<3,>=1.21.1 in /usr/local/lib/python3.11/dist-packages (from requests->transformers==4.37.2) (2.4.0)\n",
            "Requirement already satisfied: certifi>=2017.4.17 in /usr/local/lib/python3.11/dist-packages (from requests->transformers==4.37.2) (2025.4.26)\n",
            "Requirement already satisfied: torchvision==0.16.2 in /usr/local/lib/python3.11/dist-packages (0.16.2+cu118)\n",
            "Requirement already satisfied: numpy in /usr/local/lib/python3.11/dist-packages (from torchvision==0.16.2) (2.0.2)\n",
            "Requirement already satisfied: requests in /usr/local/lib/python3.11/dist-packages (from torchvision==0.16.2) (2.32.3)\n",
            "Requirement already satisfied: torch==2.1.2 in /usr/local/lib/python3.11/dist-packages (from torchvision==0.16.2) (2.1.2+cu118)\n",
            "Requirement already satisfied: pillow!=8.3.*,>=5.3.0 in /usr/local/lib/python3.11/dist-packages (from torchvision==0.16.2) (10.2.0)\n",
            "Requirement already satisfied: filelock in /usr/local/lib/python3.11/dist-packages (from torch==2.1.2->torchvision==0.16.2) (3.18.0)\n",
            "Requirement already satisfied: typing-extensions in /usr/local/lib/python3.11/dist-packages (from torch==2.1.2->torchvision==0.16.2) (4.13.2)\n",
            "Requirement already satisfied: sympy in /usr/local/lib/python3.11/dist-packages (from torch==2.1.2->torchvision==0.16.2) (1.13.1)\n",
            "Requirement already satisfied: networkx in /usr/local/lib/python3.11/dist-packages (from torch==2.1.2->torchvision==0.16.2) (3.4.2)\n",
            "Requirement already satisfied: jinja2 in /usr/local/lib/python3.11/dist-packages (from torch==2.1.2->torchvision==0.16.2) (3.1.6)\n",
            "Requirement already satisfied: fsspec in /usr/local/lib/python3.11/dist-packages (from torch==2.1.2->torchvision==0.16.2) (2025.3.2)\n",
            "Requirement already satisfied: triton==2.1.0 in /usr/local/lib/python3.11/dist-packages (from torch==2.1.2->torchvision==0.16.2) (2.1.0)\n",
            "Requirement already satisfied: charset-normalizer<4,>=2 in /usr/local/lib/python3.11/dist-packages (from requests->torchvision==0.16.2) (3.4.2)\n",
            "Requirement already satisfied: idna<4,>=2.5 in /usr/local/lib/python3.11/dist-packages (from requests->torchvision==0.16.2) (3.10)\n",
            "Requirement already satisfied: urllib3<3,>=1.21.1 in /usr/local/lib/python3.11/dist-packages (from requests->torchvision==0.16.2) (2.4.0)\n",
            "Requirement already satisfied: certifi>=2017.4.17 in /usr/local/lib/python3.11/dist-packages (from requests->torchvision==0.16.2) (2025.4.26)\n",
            "Requirement already satisfied: MarkupSafe>=2.0 in /usr/local/lib/python3.11/dist-packages (from jinja2->torch==2.1.2->torchvision==0.16.2) (3.0.2)\n",
            "Requirement already satisfied: mpmath<1.4,>=1.1.0 in /usr/local/lib/python3.11/dist-packages (from sympy->torch==2.1.2->torchvision==0.16.2) (1.3.0)\n",
            "Requirement already satisfied: torchmetrics==1.3.1 in /usr/local/lib/python3.11/dist-packages (1.3.1)\n",
            "Requirement already satisfied: numpy>1.20.0 in /usr/local/lib/python3.11/dist-packages (from torchmetrics==1.3.1) (2.0.2)\n",
            "Requirement already satisfied: packaging>17.1 in /usr/local/lib/python3.11/dist-packages (from torchmetrics==1.3.1) (24.2)\n",
            "Requirement already satisfied: torch>=1.10.0 in /usr/local/lib/python3.11/dist-packages (from torchmetrics==1.3.1) (2.1.2+cu118)\n",
            "Requirement already satisfied: lightning-utilities>=0.8.0 in /usr/local/lib/python3.11/dist-packages (from torchmetrics==1.3.1) (0.14.3)\n",
            "Requirement already satisfied: setuptools in /usr/local/lib/python3.11/dist-packages (from lightning-utilities>=0.8.0->torchmetrics==1.3.1) (75.2.0)\n",
            "Requirement already satisfied: typing_extensions in /usr/local/lib/python3.11/dist-packages (from lightning-utilities>=0.8.0->torchmetrics==1.3.1) (4.13.2)\n",
            "Requirement already satisfied: filelock in /usr/local/lib/python3.11/dist-packages (from torch>=1.10.0->torchmetrics==1.3.1) (3.18.0)\n",
            "Requirement already satisfied: sympy in /usr/local/lib/python3.11/dist-packages (from torch>=1.10.0->torchmetrics==1.3.1) (1.13.1)\n",
            "Requirement already satisfied: networkx in /usr/local/lib/python3.11/dist-packages (from torch>=1.10.0->torchmetrics==1.3.1) (3.4.2)\n",
            "Requirement already satisfied: jinja2 in /usr/local/lib/python3.11/dist-packages (from torch>=1.10.0->torchmetrics==1.3.1) (3.1.6)\n",
            "Requirement already satisfied: fsspec in /usr/local/lib/python3.11/dist-packages (from torch>=1.10.0->torchmetrics==1.3.1) (2025.3.2)\n",
            "Requirement already satisfied: triton==2.1.0 in /usr/local/lib/python3.11/dist-packages (from torch>=1.10.0->torchmetrics==1.3.1) (2.1.0)\n",
            "Requirement already satisfied: MarkupSafe>=2.0 in /usr/local/lib/python3.11/dist-packages (from jinja2->torch>=1.10.0->torchmetrics==1.3.1) (3.0.2)\n",
            "Requirement already satisfied: mpmath<1.4,>=1.1.0 in /usr/local/lib/python3.11/dist-packages (from sympy->torch>=1.10.0->torchmetrics==1.3.1) (1.3.0)\n",
            "Requirement already satisfied: pillow==10.2.0 in /usr/local/lib/python3.11/dist-packages (10.2.0)\n",
            "Collecting numpy==1.26.4\n",
            "  Using cached numpy-1.26.4-cp311-cp311-manylinux_2_17_x86_64.manylinux2014_x86_64.whl.metadata (61 kB)\n",
            "Using cached numpy-1.26.4-cp311-cp311-manylinux_2_17_x86_64.manylinux2014_x86_64.whl (18.3 MB)\n",
            "Installing collected packages: numpy\n",
            "  Attempting uninstall: numpy\n",
            "    Found existing installation: numpy 2.0.2\n",
            "    Uninstalling numpy-2.0.2:\n",
            "      Successfully uninstalled numpy-2.0.2\n",
            "\u001b[31mERROR: pip's dependency resolver does not currently take into account all the packages that are installed. This behaviour is the source of the following dependency conflicts.\n",
            "thinc 8.3.6 requires numpy<3.0.0,>=2.0.0, but you have numpy 1.26.4 which is incompatible.\n",
            "sentence-transformers 4.1.0 requires transformers<5.0.0,>=4.41.0, but you have transformers 4.37.2 which is incompatible.\u001b[0m\u001b[31m\n",
            "\u001b[0mSuccessfully installed numpy-1.26.4\n",
            "Requirement already satisfied: scikit-learn in /usr/local/lib/python3.11/dist-packages (1.6.1)\n",
            "Requirement already satisfied: matplotlib in /usr/local/lib/python3.11/dist-packages (3.10.0)\n",
            "Requirement already satisfied: numpy>=1.19.5 in /usr/local/lib/python3.11/dist-packages (from scikit-learn) (1.26.4)\n",
            "Requirement already satisfied: scipy>=1.6.0 in /usr/local/lib/python3.11/dist-packages (from scikit-learn) (1.15.3)\n",
            "Requirement already satisfied: joblib>=1.2.0 in /usr/local/lib/python3.11/dist-packages (from scikit-learn) (1.5.0)\n",
            "Requirement already satisfied: threadpoolctl>=3.1.0 in /usr/local/lib/python3.11/dist-packages (from scikit-learn) (3.6.0)\n",
            "Requirement already satisfied: contourpy>=1.0.1 in /usr/local/lib/python3.11/dist-packages (from matplotlib) (1.3.2)\n",
            "Requirement already satisfied: cycler>=0.10 in /usr/local/lib/python3.11/dist-packages (from matplotlib) (0.12.1)\n",
            "Requirement already satisfied: fonttools>=4.22.0 in /usr/local/lib/python3.11/dist-packages (from matplotlib) (4.57.0)\n",
            "Requirement already satisfied: kiwisolver>=1.3.1 in /usr/local/lib/python3.11/dist-packages (from matplotlib) (1.4.8)\n",
            "Requirement already satisfied: packaging>=20.0 in /usr/local/lib/python3.11/dist-packages (from matplotlib) (24.2)\n",
            "Requirement already satisfied: pillow>=8 in /usr/local/lib/python3.11/dist-packages (from matplotlib) (10.2.0)\n",
            "Requirement already satisfied: pyparsing>=2.3.1 in /usr/local/lib/python3.11/dist-packages (from matplotlib) (3.2.3)\n",
            "Requirement already satisfied: python-dateutil>=2.7 in /usr/local/lib/python3.11/dist-packages (from matplotlib) (2.9.0.post0)\n",
            "Requirement already satisfied: six>=1.5 in /usr/local/lib/python3.11/dist-packages (from python-dateutil>=2.7->matplotlib) (1.17.0)\n"
          ]
        }
      ]
    },
    {
      "cell_type": "markdown",
      "source": [
        "Kiểm tra số pixels"
      ],
      "metadata": {
        "id": "rLKPuyNEt9yd"
      }
    },
    {
      "cell_type": "code",
      "source": [
        "\n",
        "import numpy as np\n",
        "from PIL import Image\n",
        "import os\n",
        "\n",
        "# Đường dẫn đến thư mục chứa ảnh mask của test set\n",
        "mask_dir = '/content/gdrive/MyDrive/KLTN/Unet/data/test/masks'\n",
        "\n",
        "# Tên lớp\n",
        "class_names = {\n",
        "    0: \"Background\",\n",
        "    1: \"Field\",\n",
        "    2: \"Other\"\n",
        "}\n",
        "\n",
        "# Khởi tạo bộ đếm tổng số pixel cho mỗi lớp\n",
        "total_counts = {cls_id: 0 for cls_id in class_names.keys()}\n",
        "\n",
        "# Duyệt qua tất cả tệp trong thư mục\n",
        "for filename in os.listdir(mask_dir):\n",
        "    if filename.endswith('.png'):\n",
        "        mask_path = os.path.join(mask_dir, filename)\n",
        "        mask = Image.open(mask_path).convert('L')  # Chuyển về grayscale 8-bit\n",
        "        mask_array = np.array(mask)\n",
        "\n",
        "        # Đếm số lượng pixel theo lớp\n",
        "        unique, counts = np.unique(mask_array, return_counts=True)\n",
        "        for cls_id, count in zip(unique, counts):\n",
        "            if cls_id in total_counts:\n",
        "                total_counts[cls_id] += count\n",
        "            else:\n",
        "                total_counts[cls_id] = count  # Trường hợp lớp ngoài dự kiến\n",
        "\n",
        "# In kết quả\n",
        "print(\"=== Phân bố lớp trong tập test ===\")\n",
        "for cls_id, count in total_counts.items():\n",
        "    class_name = class_names.get(cls_id, \"Unknown\")\n",
        "    print(f\"Class {cls_id} ({class_name}): {count} pixels\")\n",
        "\n"
      ],
      "metadata": {
        "colab": {
          "base_uri": "https://localhost:8080/"
        },
        "id": "sOhnT7QV6Agm",
        "outputId": "dc01ba4f-31aa-4d05-c0c6-71834a51584b"
      },
      "execution_count": null,
      "outputs": [
        {
          "output_type": "stream",
          "name": "stdout",
          "text": [
            "=== Phân bố lớp trong tập test ===\n",
            "Class 0 (Background): 6451200 pixels\n",
            "Class 1 (Field): 0 pixels\n",
            "Class 2 (Other): 0 pixels\n"
          ]
        }
      ]
    },
    {
      "cell_type": "markdown",
      "source": [
        "Train: Unet + segformer\n"
      ],
      "metadata": {
        "id": "ZJZ7YsQicxTr"
      }
    },
    {
      "cell_type": "code",
      "source": [
        "import torch\n",
        "import torch.nn as nn\n",
        "from torch.utils.data import DataLoader, Dataset\n",
        "from torchvision import transforms\n",
        "import os\n",
        "from tqdm import tqdm\n",
        "import numpy as np\n",
        "from transformers import SegformerModel, SegformerConfig\n",
        "from torchmetrics.classification import MulticlassAccuracy, MulticlassF1Score, MulticlassJaccardIndex\n",
        "from PIL import Image\n",
        "from sklearn.metrics import confusion_matrix, ConfusionMatrixDisplay\n",
        "import matplotlib.pyplot as plt\n",
        "\n",
        "\n",
        "\n",
        "# -------------------- Dataset --------------------\n",
        "class SegDataset(Dataset):\n",
        "    def __init__(self, image_dir, mask_dir, transform=None, target_size=(1280, 960)):\n",
        "        self.image_dir = image_dir\n",
        "        self.mask_dir = mask_dir\n",
        "        self.images = os.listdir(image_dir)\n",
        "        self.transform = transform\n",
        "        self.target_size = target_size\n",
        "\n",
        "\n",
        "    def __len__(self):\n",
        "        return len(self.images)\n",
        "\n",
        "    def __getitem__(self, idx):\n",
        "        img_path = os.path.join(self.image_dir, self.images[idx])\n",
        "        mask_path = os.path.join(self.mask_dir, self.images[idx].replace('.jpg', '.png'))\n",
        "\n",
        "        image = Image.open(img_path).convert('RGB')\n",
        "        mask = Image.open(mask_path).convert('L')\n",
        "\n",
        "        if self.transform:\n",
        "            image = self.transform(image)\n",
        "        mask = torch.from_numpy(np.array(mask)).long()\n",
        "        return image, mask\n",
        "\n",
        "\n",
        "# -------------------- U-Net + SegFormer --------------------\n",
        "import torch\n",
        "import torch.nn as nn\n",
        "from transformers import SegformerModel, SegformerConfig\n",
        "\n",
        "class UNetSegFormer(nn.Module):\n",
        "    def __init__(self, num_classes, device='cuda:0'):\n",
        "        super().__init__()\n",
        "        self.device = device\n",
        "\n",
        "        # Tải Segformer pre-trained model\n",
        "        config = SegformerConfig.from_pretrained(\"nvidia/mit-b0\", output_hidden_states=True)\n",
        "        self.encoder = SegformerModel.from_pretrained(\"nvidia/mit-b0\", config=config)\n",
        "        encoder_channels = self.encoder.config.hidden_sizes[::-1]  # [256, 160, 64, 32]\n",
        "\n",
        "        # Decoder blocks\n",
        "        self.decoder4 = self.conv_block(encoder_channels[0], 128)\n",
        "        self.decoder3 = self.conv_block(encoder_channels[1], 64)\n",
        "        self.decoder2 = self.conv_block(encoder_channels[2], 32)\n",
        "        self.decoder1 = self.conv_block(encoder_channels[3], 16)\n",
        "\n",
        "        # Điều chỉnh số kênh đầu vào (nếu cần) trước khi cộng\n",
        "        self.match3 = nn.Conv2d(128, 64, kernel_size=1)\n",
        "        self.match2 = nn.Conv2d(64, 32, kernel_size=1)\n",
        "        self.match1 = nn.Conv2d(32, 16, kernel_size=1)\n",
        "\n",
        "        # Lớp phân loại cuối cùng\n",
        "        self.final_conv = nn.Conv2d(16, num_classes, kernel_size=1)\n",
        "\n",
        "    def conv_block(self, in_channels, out_channels):\n",
        "        return nn.Sequential(\n",
        "            nn.Conv2d(in_channels, out_channels, kernel_size=3, padding=1),\n",
        "            nn.ReLU(inplace=True),\n",
        "            nn.Conv2d(out_channels, out_channels, kernel_size=3, padding=1),\n",
        "            nn.ReLU(inplace=True),\n",
        "        )\n",
        "\n",
        "    def forward(self, x):\n",
        "        x = x.to(self.device)\n",
        "        encoder_outputs = self.encoder(x).hidden_states[::-1]  # [C4, C3, C2, C1]\n",
        "\n",
        "        # Decoder4\n",
        "        x = self.decoder4(encoder_outputs[0])\n",
        "        x = nn.functional.interpolate(x, size=encoder_outputs[1].shape[2:], mode='bilinear', align_corners=False)\n",
        "\n",
        "        # Decoder3\n",
        "        enc3 = self.decoder3(encoder_outputs[1])\n",
        "        x = self.match3(x) if x.shape[1] != enc3.shape[1] else x\n",
        "        x = x + enc3\n",
        "        x = nn.functional.interpolate(x, size=encoder_outputs[2].shape[2:], mode='bilinear', align_corners=False)\n",
        "\n",
        "        # Decoder2\n",
        "        enc2 = self.decoder2(encoder_outputs[2])\n",
        "        x = self.match2(x) if x.shape[1] != enc2.shape[1] else x\n",
        "        x = x + enc2\n",
        "        x = nn.functional.interpolate(x, size=encoder_outputs[3].shape[2:], mode='bilinear', align_corners=False)\n",
        "\n",
        "        # Decoder1\n",
        "        enc1 = self.decoder1(encoder_outputs[3])\n",
        "        x = self.match1(x) if x.shape[1] != enc1.shape[1] else x\n",
        "        x = x + enc1\n",
        "\n",
        "        # Final output\n",
        "        return self.final_conv(x)\n",
        "\n",
        "\n",
        "\n",
        "# -------------------- Hyperparams --------------------\n",
        "NUM_CLASSES = 3\n",
        "EPOCHS = 20\n",
        "BATCH_SIZE = 4\n",
        "LR = 1e-4\n",
        "DEVICE = torch.device(\"cuda\" if torch.cuda.is_available() else \"cpu\")\n",
        "\n",
        "\n",
        "# -------------------- Transforms --------------------\n",
        "transform = transforms.Compose([\n",
        "    transforms.Resize((1280, 960)),\n",
        "    transforms.ToTensor(),\n",
        "    transforms.Normalize(mean=[0.485, 0.456, 0.406], std=[0.229, 0.224, 0.225])  # Standardize the input image\n",
        "])\n",
        "\n",
        "\n",
        "# -------------------- Datasets & Loaders --------------------\n",
        "from torchmetrics.classification import MulticlassAccuracy, MulticlassF1Score, MulticlassJaccardIndex\n",
        "from torch.utils.data import DataLoader\n",
        "import torch.nn.functional as F\n",
        "import torch.nn as nn\n",
        "import torch\n",
        "from tqdm import tqdm\n",
        "import numpy as np\n",
        "\n",
        "# -------------------- Dataset --------------------\n",
        "train_dataset = SegDataset(\"/content/gdrive/MyDrive/KLTN/Unet/data/train/images\", \"/content/gdrive/MyDrive/KLTN/Unet/data/train/masks\", transform)\n",
        "val_dataset = SegDataset(\"/content/gdrive/MyDrive/KLTN/Unet/data/val/images\", \"/content/gdrive/MyDrive/KLTN/Unet/data/val/masks\", transform)\n",
        "\n",
        "train_loader = DataLoader(train_dataset, batch_size=BATCH_SIZE, shuffle=True, num_workers=2)\n",
        "val_loader = DataLoader(val_dataset, batch_size=BATCH_SIZE, shuffle=False, num_workers=2)\n",
        "\n",
        "# -------------------- Model & Loss & Optimizer --------------------\n",
        "DEVICE = torch.device(\"cuda\" if torch.cuda.is_available() else \"cpu\")\n",
        "model = UNetSegFormer(NUM_CLASSES).to(DEVICE)\n",
        "criterion = nn.CrossEntropyLoss()\n",
        "optimizer = torch.optim.Adam(model.parameters(), lr=LR)\n",
        "model = model.to(DEVICE)\n",
        "\n",
        "# Metrics\n",
        "acc_metric = MulticlassAccuracy(num_classes=NUM_CLASSES, average=None).to(DEVICE)\n",
        "f1_metric = MulticlassF1Score(num_classes=NUM_CLASSES, average=None).to(DEVICE)\n",
        "iou_metric = MulticlassJaccardIndex(num_classes=NUM_CLASSES, average=None).to(DEVICE)\n",
        "\n",
        "CLASS_NAMES = [\"background\", \"field\", \"other\"]  # Tên các lớp\n",
        "\n",
        "# -------------------- Training --------------------\n",
        "for epoch in range(EPOCHS):\n",
        "    model.train()\n",
        "    train_loss = 0\n",
        "    acc_metric.reset()\n",
        "    f1_metric.reset()\n",
        "    iou_metric.reset()\n",
        "\n",
        "    for images, masks in tqdm(train_loader, desc=f\"Epoch {epoch+1}/{EPOCHS} [Train]\"):\n",
        "        images, masks = images.to(DEVICE), masks.to(DEVICE)\n",
        "        outputs = model(images)\n",
        "        outputs = F.interpolate(outputs, size=masks.shape[1:], mode='bilinear', align_corners=False)\n",
        "        loss = criterion(outputs, masks)\n",
        "\n",
        "        optimizer.zero_grad()\n",
        "        loss.backward()\n",
        "        optimizer.step()\n",
        "\n",
        "        train_loss += loss.item()\n",
        "        preds = torch.argmax(outputs, dim=1)\n",
        "        acc_metric.update(preds, masks)\n",
        "        f1_metric.update(preds, masks)\n",
        "        iou_metric.update(preds, masks)\n",
        "\n",
        "    train_acc = acc_metric.compute().mean().item()\n",
        "    train_f1 = f1_metric.compute().mean().item()\n",
        "    train_iou = iou_metric.compute().mean().item()\n",
        "\n",
        "    # ----------- Validation -----------\n",
        "    model.eval()\n",
        "    val_loss = 0\n",
        "    acc_metric.reset()\n",
        "    f1_metric.reset()\n",
        "    iou_metric.reset()\n",
        "\n",
        "    with torch.no_grad():\n",
        "        for images, masks in tqdm(val_loader, desc=f\"Epoch {epoch+1}/{EPOCHS} [Val]\"):\n",
        "            images, masks = images.to(DEVICE), masks.to(DEVICE)\n",
        "            outputs = model(images)\n",
        "            outputs = F.interpolate(outputs, size=masks.shape[1:], mode='bilinear', align_corners=False)\n",
        "            loss = criterion(outputs, masks)\n",
        "\n",
        "            val_loss += loss.item()\n",
        "            preds = torch.argmax(outputs, dim=1).argmax(1)\n",
        "            acc_metric.update(preds.view(-1), masks.view(-1))\n",
        "            f1_metric.update(preds.view(-1), masks.view(-1))\n",
        "            iou_metric.update(preds, masks)\n",
        "\n",
        "    val_acc = acc_metric.compute().cpu().numpy()\n",
        "    val_f1 = f1_metric.compute().cpu().numpy()\n",
        "    val_iou = iou_metric.compute().cpu().numpy()\n",
        "\n",
        "    print(f\"Epoch {epoch+1}: Train Loss: {train_loss:.4f} | Val Loss: {val_loss:.4f}\")\n",
        "    print(f\"Train Acc: {train_acc:.4f}, F1: {train_f1:.4f}, mIoU: {train_iou:.4f}\")\n",
        "    print(f\"Val   Acc: {val_acc.mean():.4f}, F1: {val_f1.mean():.4f}, mIoU: {val_iou.mean():.4f}\")\n",
        "    print(\"Per-Class Validation Results:\")\n",
        "    for i, name in enumerate(CLASS_NAMES):\n",
        "        print(f\"  {name}: Acc: {val_acc[i]:.4f}, F1: {val_f1[i]:.4f}, IoU: {val_iou[i]:.4f}\")\n",
        "\n",
        "# -------------------- Test --------------------\n",
        "test_dataset = SegDataset(\"/content/gdrive/MyDrive/KLTN/Unet/data/test/images\", \"/content/gdrive/MyDrive/KLTN/Unet/data/test/masks\", transform)\n",
        "test_loader = DataLoader(test_dataset, batch_size=BATCH_SIZE, shuffle=False, num_workers=2)\n",
        "\n",
        "model.eval()\n",
        "acc_metric.reset()\n",
        "f1_metric.reset()\n",
        "iou_metric.reset()\n",
        "test_loss = 0\n",
        "\n",
        "all_preds = []\n",
        "all_targets = []\n",
        "\n",
        "with torch.no_grad():\n",
        "    for images, masks in tqdm(test_loader, desc=\"Test\"):\n",
        "        images, masks = images.to(DEVICE), masks.to(DEVICE)\n",
        "        outputs = model(images)\n",
        "        outputs = F.interpolate(outputs, size=masks.shape[1:], mode='bilinear', align_corners=False)\n",
        "        loss = criterion(outputs, masks)\n",
        "\n",
        "        test_loss += loss.item()\n",
        "\n",
        "        preds = torch.argmax(outputs, dim=1).argmax(1)\n",
        "        acc_metric.update(preds.view(-1), masks.view(-1))\n",
        "        f1_metric.update(preds.view(-1), masks.view(-1))\n",
        "        iou_metric.update(preds, masks)\n",
        "        # Lưu lại dự đoán và nhãn thật để tính confusion matrix\n",
        "        all_preds.append(preds.cpu().view(-1))\n",
        "        all_targets.append(masks.cpu().view(-1))\n",
        "\n",
        "test_acc = acc_metric.compute().cpu().numpy()\n",
        "test_f1 = f1_metric.compute().cpu().numpy()\n",
        "test_iou = iou_metric.compute().cpu().numpy()\n",
        "\n",
        "print(f\"\\nTest Results:\")\n",
        "print(f\"Test Loss: {test_loss:.4f}\")\n",
        "print(f\"Test Acc: {test_acc.mean():.4f}, F1: {test_f1.mean():.4f}, mIoU: {test_iou.mean():.4f}\")\n",
        "print(\"Per-Class Test Results:\")\n",
        "for i, name in enumerate(CLASS_NAMES):\n",
        "    print(f\"  {name}: Acc: {test_acc[i]:.4f}, F1: {test_f1[i]:.4f}, IoU: {test_iou[i]:.4f}\")\n",
        "\n",
        "# Ghép tất cả lại thành tensor 1D\n",
        "all_preds = torch.cat(all_preds).numpy()\n",
        "all_targets = torch.cat(all_targets).numpy()\n",
        "\n",
        "# Tính và hiển thị confusion matrix\n",
        "cm = confusion_matrix(all_targets, all_preds, labels=list(range(len(CLASS_NAMES))))\n",
        "disp = ConfusionMatrixDisplay(confusion_matrix=cm, display_labels=CLASS_NAMES)\n",
        "\n",
        "fig, ax = plt.subplots(figsize=(8, 6))\n",
        "disp.plot(ax=ax, cmap='Blues', values_format='d')\n",
        "plt.title(\"Confusion Matrix on Test Set\")\n",
        "plt.show()"
      ],
      "metadata": {
        "colab": {
          "base_uri": "https://localhost:8080/",
          "height": 1000,
          "referenced_widgets": [
            "dc9984cd43e042d18f4237acaaec2785",
            "69a573761f344ca1a66d40e37b617d90",
            "7663105496d647f78c58509b35ac6f53",
            "5dee61f43cc1476297686f0ce0340a85",
            "f6361159ebe34c8a8b72efe9498ecb40",
            "39b255a158cc41abbaf377e62eef2e64",
            "a0f778c2782f42fcab078d2c0b1d5b02",
            "8f1e69e99a6141c59b8dff690049619a",
            "04bdab10212943828f7ae4a1e312ddf6",
            "9df5e617009842ecbcbb6c3c70f5c0be",
            "d82f1a9ff6a146e8bc328429c0be3b11",
            "ea4d5565af474c379411e1141fa502bb",
            "1c2c7e70d6ab4e9da106ac329ccfe1b0",
            "bc9fce0cb3774ab6bae7e990d5cff6be",
            "57e76f49275b4601b6efab9a79a569bf",
            "e40b32d0e56a475e869538719d7ba106",
            "b76b728919df42cd8425a66c10d6660f",
            "cd106cfc11504d11ae9c8ae8f1ebc1c7",
            "771a4c270c2b462a855cbf058032026f",
            "ddbdcb4cb71d466994b0c4393f6a6421",
            "20991193f9994ad493e3a2920fb5f41d",
            "2932c5d52d7a46cf9c467d6ea2d9a460"
          ]
        },
        "id": "hQPf9e4McwgJ",
        "outputId": "d0611cbb-208a-4d13-a50a-be9fb30f8081"
      },
      "execution_count": null,
      "outputs": [
        {
          "output_type": "stream",
          "name": "stderr",
          "text": [
            "/usr/local/lib/python3.11/dist-packages/huggingface_hub/file_download.py:795: FutureWarning: `resume_download` is deprecated and will be removed in version 1.0.0. Downloads always resume when possible. If you want to force a new download, use `force_download=True`.\n",
            "  warnings.warn(\n",
            "/usr/local/lib/python3.11/dist-packages/huggingface_hub/utils/_auth.py:94: UserWarning: \n",
            "The secret `HF_TOKEN` does not exist in your Colab secrets.\n",
            "To authenticate with the Hugging Face Hub, create a token in your settings tab (https://huggingface.co/settings/tokens), set it as secret in your Google Colab and restart your session.\n",
            "You will be able to reuse this secret in all of your notebooks.\n",
            "Please note that authentication is recommended but still optional to access public models or datasets.\n",
            "  warnings.warn(\n"
          ]
        },
        {
          "output_type": "display_data",
          "data": {
            "text/plain": [
              "config.json:   0%|          | 0.00/70.0k [00:00<?, ?B/s]"
            ],
            "application/vnd.jupyter.widget-view+json": {
              "version_major": 2,
              "version_minor": 0,
              "model_id": "dc9984cd43e042d18f4237acaaec2785"
            }
          },
          "metadata": {}
        },
        {
          "output_type": "display_data",
          "data": {
            "text/plain": [
              "pytorch_model.bin:   0%|          | 0.00/14.4M [00:00<?, ?B/s]"
            ],
            "application/vnd.jupyter.widget-view+json": {
              "version_major": 2,
              "version_minor": 0,
              "model_id": "ea4d5565af474c379411e1141fa502bb"
            }
          },
          "metadata": {}
        },
        {
          "output_type": "stream",
          "name": "stderr",
          "text": [
            "/usr/local/lib/python3.11/dist-packages/torch/_utils.py:831: UserWarning: TypedStorage is deprecated. It will be removed in the future and UntypedStorage will be the only storage class. This should only matter to you if you are using storages directly.  To access UntypedStorage directly, use tensor.untyped_storage() instead of tensor.storage()\n",
            "  return self.fget.__get__(instance, owner)()\n",
            "Epoch 1/20 [Train]: 100%|██████████| 29/29 [01:35<00:00,  3.29s/it]\n",
            "Epoch 1/20 [Val]: 100%|██████████| 7/7 [00:18<00:00,  2.70s/it]\n"
          ]
        },
        {
          "output_type": "stream",
          "name": "stdout",
          "text": [
            "Epoch 1: Train Loss: 9.5473 | Val Loss: 0.9412\n",
            "Train Acc: 0.5445, F1: 0.5663, mIoU: 0.4992\n",
            "Val   Acc: 0.6438, F1: 0.6462, mIoU: 0.6270\n",
            "Per-Class Validation Results:\n",
            "  background: Acc: 0.0000, F1: 0.0000, IoU: 0.0000\n",
            "  field: Acc: 0.9952, F1: 0.9798, IoU: 0.9604\n",
            "  other: Acc: 0.9361, F1: 0.9587, IoU: 0.9206\n"
          ]
        },
        {
          "output_type": "stream",
          "name": "stderr",
          "text": [
            "Epoch 2/20 [Train]: 100%|██████████| 29/29 [00:39<00:00,  1.36s/it]\n",
            "Epoch 2/20 [Val]: 100%|██████████| 7/7 [00:03<00:00,  2.06it/s]\n"
          ]
        },
        {
          "output_type": "stream",
          "name": "stdout",
          "text": [
            "Epoch 2: Train Loss: 3.0806 | Val Loss: 0.6317\n",
            "Train Acc: 0.6419, F1: 0.6391, mIoU: 0.6142\n",
            "Val   Acc: 0.6517, F1: 0.6521, mIoU: 0.6383\n",
            "Per-Class Validation Results:\n",
            "  background: Acc: 0.0000, F1: 0.0000, IoU: 0.0000\n",
            "  field: Acc: 0.9957, F1: 0.9847, IoU: 0.9699\n",
            "  other: Acc: 0.9593, F1: 0.9717, IoU: 0.9450\n"
          ]
        },
        {
          "output_type": "stream",
          "name": "stderr",
          "text": [
            "Epoch 3/20 [Train]: 100%|██████████| 29/29 [00:43<00:00,  1.51s/it]\n",
            "Epoch 3/20 [Val]: 100%|██████████| 7/7 [00:06<00:00,  1.13it/s]\n"
          ]
        },
        {
          "output_type": "stream",
          "name": "stdout",
          "text": [
            "Epoch 3: Train Loss: 2.4710 | Val Loss: 0.5913\n",
            "Train Acc: 0.6460, F1: 0.6441, mIoU: 0.6234\n",
            "Val   Acc: 0.6551, F1: 0.6482, mIoU: 0.6308\n",
            "Per-Class Validation Results:\n",
            "  background: Acc: 0.0000, F1: 0.0000, IoU: 0.0000\n",
            "  field: Acc: 0.9766, F1: 0.9828, IoU: 0.9661\n",
            "  other: Acc: 0.9887, F1: 0.9618, IoU: 0.9264\n"
          ]
        },
        {
          "output_type": "stream",
          "name": "stderr",
          "text": [
            "Epoch 4/20 [Train]: 100%|██████████| 29/29 [00:40<00:00,  1.40s/it]\n",
            "Epoch 4/20 [Val]: 100%|██████████| 7/7 [00:03<00:00,  2.08it/s]\n"
          ]
        },
        {
          "output_type": "stream",
          "name": "stdout",
          "text": [
            "Epoch 4: Train Loss: 2.4562 | Val Loss: 0.5395\n",
            "Train Acc: 0.6470, F1: 0.6434, mIoU: 0.6221\n",
            "Val   Acc: 0.6502, F1: 0.6519, mIoU: 0.6379\n",
            "Per-Class Validation Results:\n",
            "  background: Acc: 0.0000, F1: 0.0000, IoU: 0.0000\n",
            "  field: Acc: 0.9982, F1: 0.9843, IoU: 0.9692\n",
            "  other: Acc: 0.9523, F1: 0.9714, IoU: 0.9444\n"
          ]
        },
        {
          "output_type": "stream",
          "name": "stderr",
          "text": [
            "Epoch 5/20 [Train]: 100%|██████████| 29/29 [00:41<00:00,  1.42s/it]\n",
            "Epoch 5/20 [Val]: 100%|██████████| 7/7 [00:03<00:00,  2.06it/s]\n"
          ]
        },
        {
          "output_type": "stream",
          "name": "stdout",
          "text": [
            "Epoch 5: Train Loss: 2.1142 | Val Loss: 0.4256\n",
            "Train Acc: 0.6476, F1: 0.6470, mIoU: 0.6288\n",
            "Val   Acc: 0.6573, F1: 0.6549, mIoU: 0.6435\n",
            "Per-Class Validation Results:\n",
            "  background: Acc: 0.0000, F1: 0.0000, IoU: 0.0000\n",
            "  field: Acc: 0.9920, F1: 0.9877, IoU: 0.9756\n",
            "  other: Acc: 0.9798, F1: 0.9769, IoU: 0.9549\n"
          ]
        },
        {
          "output_type": "stream",
          "name": "stderr",
          "text": [
            "Epoch 6/20 [Train]: 100%|██████████| 29/29 [00:41<00:00,  1.41s/it]\n",
            "Epoch 6/20 [Val]: 100%|██████████| 7/7 [00:03<00:00,  1.88it/s]\n"
          ]
        },
        {
          "output_type": "stream",
          "name": "stdout",
          "text": [
            "Epoch 6: Train Loss: 1.9617 | Val Loss: 0.4102\n",
            "Train Acc: 0.6528, F1: 0.6497, mIoU: 0.6338\n",
            "Val   Acc: 0.6565, F1: 0.6557, mIoU: 0.6450\n",
            "Per-Class Validation Results:\n",
            "  background: Acc: 0.0000, F1: 0.0000, IoU: 0.0000\n",
            "  field: Acc: 0.9960, F1: 0.9880, IoU: 0.9763\n",
            "  other: Acc: 0.9735, F1: 0.9790, IoU: 0.9588\n"
          ]
        },
        {
          "output_type": "stream",
          "name": "stderr",
          "text": [
            "Epoch 7/20 [Train]: 100%|██████████| 29/29 [00:42<00:00,  1.46s/it]\n",
            "Epoch 7/20 [Val]: 100%|██████████| 7/7 [00:04<00:00,  1.68it/s]\n"
          ]
        },
        {
          "output_type": "stream",
          "name": "stdout",
          "text": [
            "Epoch 7: Train Loss: 1.5320 | Val Loss: 0.3783\n",
            "Train Acc: 0.6560, F1: 0.6539, mIoU: 0.6417\n",
            "Val   Acc: 0.6610, F1: 0.6566, mIoU: 0.6469\n",
            "Per-Class Validation Results:\n",
            "  background: Acc: 0.0000, F1: 0.0000, IoU: 0.0000\n",
            "  field: Acc: 0.9906, F1: 0.9909, IoU: 0.9819\n",
            "  other: Acc: 0.9924, F1: 0.9789, IoU: 0.9587\n"
          ]
        },
        {
          "output_type": "stream",
          "name": "stderr",
          "text": [
            "Epoch 8/20 [Train]: 100%|██████████| 29/29 [00:41<00:00,  1.42s/it]\n",
            "Epoch 8/20 [Val]: 100%|██████████| 7/7 [00:03<00:00,  2.04it/s]\n"
          ]
        },
        {
          "output_type": "stream",
          "name": "stdout",
          "text": [
            "Epoch 8: Train Loss: 1.3655 | Val Loss: 0.3463\n",
            "Train Acc: 0.6587, F1: 0.6557, mIoU: 0.6451\n",
            "Val   Acc: 0.6602, F1: 0.6585, mIoU: 0.6504\n",
            "Per-Class Validation Results:\n",
            "  background: Acc: 0.0000, F1: 0.0000, IoU: 0.0000\n",
            "  field: Acc: 0.9967, F1: 0.9909, IoU: 0.9820\n",
            "  other: Acc: 0.9841, F1: 0.9845, IoU: 0.9694\n"
          ]
        },
        {
          "output_type": "stream",
          "name": "stderr",
          "text": [
            "Epoch 9/20 [Train]: 100%|██████████| 29/29 [00:40<00:00,  1.41s/it]\n",
            "Epoch 9/20 [Val]: 100%|██████████| 7/7 [00:03<00:00,  2.08it/s]\n"
          ]
        },
        {
          "output_type": "stream",
          "name": "stdout",
          "text": [
            "Epoch 9: Train Loss: 1.2805 | Val Loss: 0.3267\n",
            "Train Acc: 0.6593, F1: 0.6568, mIoU: 0.6473\n",
            "Val   Acc: 0.6615, F1: 0.6590, mIoU: 0.6516\n",
            "Per-Class Validation Results:\n",
            "  background: Acc: 0.0000, F1: 0.0000, IoU: 0.0000\n",
            "  field: Acc: 0.9961, F1: 0.9919, IoU: 0.9839\n",
            "  other: Acc: 0.9885, F1: 0.9852, IoU: 0.9708\n"
          ]
        },
        {
          "output_type": "stream",
          "name": "stderr",
          "text": [
            "Epoch 10/20 [Train]: 100%|██████████| 29/29 [00:41<00:00,  1.42s/it]\n",
            "Epoch 10/20 [Val]: 100%|██████████| 7/7 [00:03<00:00,  1.79it/s]\n"
          ]
        },
        {
          "output_type": "stream",
          "name": "stdout",
          "text": [
            "Epoch 10: Train Loss: 1.2019 | Val Loss: 0.3168\n",
            "Train Acc: 0.6601, F1: 0.6574, mIoU: 0.6484\n",
            "Val   Acc: 0.6626, F1: 0.6591, mIoU: 0.6517\n",
            "Per-Class Validation Results:\n",
            "  background: Acc: 0.0001, F1: 0.0002, IoU: 0.0001\n",
            "  field: Acc: 0.9946, F1: 0.9927, IoU: 0.9855\n",
            "  other: Acc: 0.9929, F1: 0.9845, IoU: 0.9694\n"
          ]
        },
        {
          "output_type": "stream",
          "name": "stderr",
          "text": [
            "Epoch 11/20 [Train]: 100%|██████████| 29/29 [00:41<00:00,  1.44s/it]\n",
            "Epoch 11/20 [Val]: 100%|██████████| 7/7 [00:04<00:00,  1.67it/s]\n"
          ]
        },
        {
          "output_type": "stream",
          "name": "stdout",
          "text": [
            "Epoch 11: Train Loss: 1.1594 | Val Loss: 0.3138\n",
            "Train Acc: 0.6609, F1: 0.6579, mIoU: 0.6492\n",
            "Val   Acc: 0.6617, F1: 0.6600, mIoU: 0.6528\n",
            "Per-Class Validation Results:\n",
            "  background: Acc: 0.0007, F1: 0.0014, IoU: 0.0007\n",
            "  field: Acc: 0.9974, F1: 0.9921, IoU: 0.9842\n",
            "  other: Acc: 0.9871, F1: 0.9866, IoU: 0.9735\n"
          ]
        },
        {
          "output_type": "stream",
          "name": "stderr",
          "text": [
            "Epoch 12/20 [Train]: 100%|██████████| 29/29 [00:41<00:00,  1.43s/it]\n",
            "Epoch 12/20 [Val]: 100%|██████████| 7/7 [00:04<00:00,  1.61it/s]\n"
          ]
        },
        {
          "output_type": "stream",
          "name": "stdout",
          "text": [
            "Epoch 12: Train Loss: 1.1043 | Val Loss: 0.2975\n",
            "Train Acc: 0.6613, F1: 0.6589, mIoU: 0.6506\n",
            "Val   Acc: 0.6634, F1: 0.6605, mIoU: 0.6531\n",
            "Per-Class Validation Results:\n",
            "  background: Acc: 0.0013, F1: 0.0026, IoU: 0.0013\n",
            "  field: Acc: 0.9955, F1: 0.9932, IoU: 0.9866\n",
            "  other: Acc: 0.9934, F1: 0.9856, IoU: 0.9715\n"
          ]
        },
        {
          "output_type": "stream",
          "name": "stderr",
          "text": [
            "Epoch 13/20 [Train]: 100%|██████████| 29/29 [00:40<00:00,  1.41s/it]\n",
            "Epoch 13/20 [Val]: 100%|██████████| 7/7 [00:03<00:00,  2.00it/s]\n"
          ]
        },
        {
          "output_type": "stream",
          "name": "stdout",
          "text": [
            "Epoch 13: Train Loss: 1.0661 | Val Loss: 0.2945\n",
            "Train Acc: 0.6620, F1: 0.6596, mIoU: 0.6514\n",
            "Val   Acc: 0.6637, F1: 0.6608, mIoU: 0.6532\n",
            "Per-Class Validation Results:\n",
            "  background: Acc: 0.0020, F1: 0.0039, IoU: 0.0020\n",
            "  field: Acc: 0.9951, F1: 0.9933, IoU: 0.9867\n",
            "  other: Acc: 0.9941, F1: 0.9853, IoU: 0.9709\n"
          ]
        },
        {
          "output_type": "stream",
          "name": "stderr",
          "text": [
            "Epoch 14/20 [Train]: 100%|██████████| 29/29 [00:40<00:00,  1.41s/it]\n",
            "Epoch 14/20 [Val]: 100%|██████████| 7/7 [00:03<00:00,  1.91it/s]\n"
          ]
        },
        {
          "output_type": "stream",
          "name": "stdout",
          "text": [
            "Epoch 14: Train Loss: 1.0324 | Val Loss: 0.2860\n",
            "Train Acc: 0.6623, F1: 0.6601, mIoU: 0.6522\n",
            "Val   Acc: 0.6640, F1: 0.6617, mIoU: 0.6542\n",
            "Per-Class Validation Results:\n",
            "  background: Acc: 0.0027, F1: 0.0054, IoU: 0.0027\n",
            "  field: Acc: 0.9959, F1: 0.9934, IoU: 0.9868\n",
            "  other: Acc: 0.9934, F1: 0.9863, IoU: 0.9729\n"
          ]
        },
        {
          "output_type": "stream",
          "name": "stderr",
          "text": [
            "Epoch 15/20 [Train]: 100%|██████████| 29/29 [00:40<00:00,  1.41s/it]\n",
            "Epoch 15/20 [Val]: 100%|██████████| 7/7 [00:03<00:00,  2.01it/s]\n"
          ]
        },
        {
          "output_type": "stream",
          "name": "stdout",
          "text": [
            "Epoch 15: Train Loss: 0.9989 | Val Loss: 0.2816\n",
            "Train Acc: 0.6632, F1: 0.6614, mIoU: 0.6531\n",
            "Val   Acc: 0.6641, F1: 0.6624, mIoU: 0.6546\n",
            "Per-Class Validation Results:\n",
            "  background: Acc: 0.0037, F1: 0.0074, IoU: 0.0037\n",
            "  field: Acc: 0.9965, F1: 0.9934, IoU: 0.9868\n",
            "  other: Acc: 0.9920, F1: 0.9865, IoU: 0.9733\n"
          ]
        },
        {
          "output_type": "stream",
          "name": "stderr",
          "text": [
            "Epoch 16/20 [Train]: 100%|██████████| 29/29 [00:40<00:00,  1.41s/it]\n",
            "Epoch 16/20 [Val]: 100%|██████████| 7/7 [00:03<00:00,  2.05it/s]\n"
          ]
        },
        {
          "output_type": "stream",
          "name": "stdout",
          "text": [
            "Epoch 16: Train Loss: 0.9833 | Val Loss: 0.2767\n",
            "Train Acc: 0.6636, F1: 0.6623, mIoU: 0.6537\n",
            "Val   Acc: 0.6640, F1: 0.6623, mIoU: 0.6549\n",
            "Per-Class Validation Results:\n",
            "  background: Acc: 0.0031, F1: 0.0062, IoU: 0.0031\n",
            "  field: Acc: 0.9971, F1: 0.9935, IoU: 0.9872\n",
            "  other: Acc: 0.9918, F1: 0.9871, IoU: 0.9746\n"
          ]
        },
        {
          "output_type": "stream",
          "name": "stderr",
          "text": [
            "Epoch 17/20 [Train]: 100%|██████████| 29/29 [00:42<00:00,  1.45s/it]\n",
            "Epoch 17/20 [Val]: 100%|██████████| 7/7 [00:04<00:00,  1.60it/s]\n"
          ]
        },
        {
          "output_type": "stream",
          "name": "stdout",
          "text": [
            "Epoch 17: Train Loss: 0.9553 | Val Loss: 0.2742\n",
            "Train Acc: 0.6646, F1: 0.6641, mIoU: 0.6548\n",
            "Val   Acc: 0.6677, F1: 0.6703, mIoU: 0.6591\n",
            "Per-Class Validation Results:\n",
            "  background: Acc: 0.0154, F1: 0.0300, IoU: 0.0152\n",
            "  field: Acc: 0.9974, F1: 0.9931, IoU: 0.9864\n",
            "  other: Acc: 0.9904, F1: 0.9877, IoU: 0.9756\n"
          ]
        },
        {
          "output_type": "stream",
          "name": "stderr",
          "text": [
            "Epoch 18/20 [Train]: 100%|██████████| 29/29 [00:40<00:00,  1.41s/it]\n",
            "Epoch 18/20 [Val]: 100%|██████████| 7/7 [00:03<00:00,  1.80it/s]\n"
          ]
        },
        {
          "output_type": "stream",
          "name": "stdout",
          "text": [
            "Epoch 18: Train Loss: 0.9576 | Val Loss: 0.2722\n",
            "Train Acc: 0.6656, F1: 0.6663, mIoU: 0.6561\n",
            "Val   Acc: 0.6691, F1: 0.6715, mIoU: 0.6596\n",
            "Per-Class Validation Results:\n",
            "  background: Acc: 0.0174, F1: 0.0338, IoU: 0.0172\n",
            "  field: Acc: 0.9962, F1: 0.9936, IoU: 0.9873\n",
            "  other: Acc: 0.9937, F1: 0.9870, IoU: 0.9743\n"
          ]
        },
        {
          "output_type": "stream",
          "name": "stderr",
          "text": [
            "Epoch 19/20 [Train]: 100%|██████████| 29/29 [00:41<00:00,  1.42s/it]\n",
            "Epoch 19/20 [Val]: 100%|██████████| 7/7 [00:03<00:00,  1.92it/s]\n"
          ]
        },
        {
          "output_type": "stream",
          "name": "stdout",
          "text": [
            "Epoch 19: Train Loss: 0.9104 | Val Loss: 0.2664\n",
            "Train Acc: 0.6687, F1: 0.6714, mIoU: 0.6592\n",
            "Val   Acc: 0.6767, F1: 0.6858, mIoU: 0.6674\n",
            "Per-Class Validation Results:\n",
            "  background: Acc: 0.0404, F1: 0.0763, IoU: 0.0397\n",
            "  field: Acc: 0.9966, F1: 0.9939, IoU: 0.9878\n",
            "  other: Acc: 0.9931, F1: 0.9872, IoU: 0.9747\n"
          ]
        },
        {
          "output_type": "stream",
          "name": "stderr",
          "text": [
            "Epoch 20/20 [Train]: 100%|██████████| 29/29 [00:40<00:00,  1.41s/it]\n",
            "Epoch 20/20 [Val]: 100%|██████████| 7/7 [00:03<00:00,  1.97it/s]\n"
          ]
        },
        {
          "output_type": "stream",
          "name": "stdout",
          "text": [
            "Epoch 20: Train Loss: 0.8885 | Val Loss: 0.2636\n",
            "Train Acc: 0.6716, F1: 0.6770, mIoU: 0.6624\n",
            "Val   Acc: 0.6700, F1: 0.6737, mIoU: 0.6612\n",
            "Per-Class Validation Results:\n",
            "  background: Acc: 0.0205, F1: 0.0397, IoU: 0.0202\n",
            "  field: Acc: 0.9972, F1: 0.9937, IoU: 0.9874\n",
            "  other: Acc: 0.9922, F1: 0.9879, IoU: 0.9761\n"
          ]
        },
        {
          "output_type": "stream",
          "name": "stderr",
          "text": [
            "Test: 100%|██████████| 7/7 [00:25<00:00,  3.71s/it]\n"
          ]
        },
        {
          "output_type": "stream",
          "name": "stdout",
          "text": [
            "\n",
            "Test Results:\n",
            "Test Loss: 0.2619\n",
            "Test Acc: 0.6671, F1: 0.6714, mIoU: 0.6567\n",
            "Per-Class Test Results:\n",
            "  background: Acc: 0.0209, F1: 0.0399, IoU: 0.0204\n",
            "  field: Acc: 0.9956, F1: 0.9935, IoU: 0.9871\n",
            "  other: Acc: 0.9849, F1: 0.9809, IoU: 0.9625\n"
          ]
        },
        {
          "output_type": "display_data",
          "data": {
            "text/plain": [
              "<Figure size 800x600 with 2 Axes>"
            ],
            "image/png": "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\n"
          },
          "metadata": {}
        }
      ]
    }
  ]
}
